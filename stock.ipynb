{
 "cells": [
  {
   "cell_type": "code",
   "execution_count": 1,
   "id": "72d0158a",
   "metadata": {},
   "outputs": [],
   "source": [
    "import numpy as np\n",
    "import pandas as pd\n",
    "import matplotlib.pyplot as plt"
   ]
  },
  {
   "cell_type": "code",
   "execution_count": 2,
   "id": "a01d6722",
   "metadata": {},
   "outputs": [],
   "source": [
    "df_train=pd.read_csv(\"D:/Downloads/trainset.csv\")"
   ]
  },
  {
   "cell_type": "code",
   "execution_count": 3,
   "id": "0cff1c7a",
   "metadata": {},
   "outputs": [],
   "source": [
    "df_test=pd.read_csv(\"D:/Downloads/testset.csv\")"
   ]
  },
  {
   "cell_type": "code",
   "execution_count": 4,
   "id": "ce462239",
   "metadata": {},
   "outputs": [
    {
     "data": {
      "text/plain": [
       "array([[ 357.385559],\n",
       "       [ 360.122742],\n",
       "       [ 362.313507],\n",
       "       ...,\n",
       "       [1057.390015],\n",
       "       [1051.599976],\n",
       "       [1046.719971]])"
      ]
     },
     "execution_count": 4,
     "metadata": {},
     "output_type": "execute_result"
    }
   ],
   "source": [
    "trainset=df_train.iloc[:,1:2].values\n",
    "trainset"
   ]
  },
  {
   "cell_type": "code",
   "execution_count": 5,
   "id": "cfec3421",
   "metadata": {},
   "outputs": [
    {
     "data": {
      "text/plain": [
       "array([[0.01011148],\n",
       "       [0.01388614],\n",
       "       [0.01690727],\n",
       "       ...,\n",
       "       [0.97543954],\n",
       "       [0.9674549 ],\n",
       "       [0.96072522]])"
      ]
     },
     "execution_count": 5,
     "metadata": {},
     "output_type": "execute_result"
    }
   ],
   "source": [
    "from sklearn.preprocessing import MinMaxScaler\n",
    "sc=MinMaxScaler(feature_range=(0,1))\n",
    "training_scaled=sc.fit_transform(trainset)\n",
    "training_scaled"
   ]
  },
  {
   "cell_type": "code",
   "execution_count": 6,
   "id": "4ba4e115",
   "metadata": {},
   "outputs": [
    {
     "data": {
      "text/plain": [
       "(1199, 60)"
      ]
     },
     "execution_count": 6,
     "metadata": {},
     "output_type": "execute_result"
    }
   ],
   "source": [
    "x_train=[]\n",
    "y_train=[]\n",
    "\n",
    "for i in range(60,1259):\n",
    "    x_train.append(training_scaled[i-60:i,0])\n",
    "    y_train.append(training_scaled[i,0])\n",
    "\n",
    "x_train,y_train=np.array(x_train),np.array(y_train)\n",
    "x_train.shape"
   ]
  },
  {
   "cell_type": "code",
   "execution_count": 7,
   "id": "cce4d3d5",
   "metadata": {},
   "outputs": [],
   "source": [
    "x_train=np.reshape(x_train,(x_train.shape[0],x_train.shape[1],1))"
   ]
  },
  {
   "cell_type": "code",
   "execution_count": 8,
   "id": "82f262fe",
   "metadata": {},
   "outputs": [],
   "source": [
    "from keras.models import Sequential\n",
    "from keras.layers import Dense\n",
    "from keras.layers import LSTM\n",
    "from keras.layers import Dropout"
   ]
  },
  {
   "cell_type": "code",
   "execution_count": 9,
   "id": "2b9b316b",
   "metadata": {},
   "outputs": [],
   "source": [
    "regressor=Sequential()\n",
    "regressor.add(LSTM(units=50,return_sequences=True,input_shape=(x_train.shape[1],1)))\n",
    "regressor.add(Dropout(0.2))\n",
    "\n",
    "regressor.add(LSTM(units=50,return_sequences=True))\n",
    "regressor.add(Dropout(0.2))\n",
    "\n",
    "regressor.add(LSTM(units=50,return_sequences=True))\n",
    "regressor.add(Dropout(0.2))\n",
    "\n",
    "regressor.add(LSTM(units=50))\n",
    "regressor.add(Dropout(0.2))\n",
    "\n",
    "regressor.add(Dense(units=1))"
   ]
  },
  {
   "cell_type": "code",
   "execution_count": 10,
   "id": "9302aab1",
   "metadata": {},
   "outputs": [],
   "source": [
    "regressor.compile(optimizer='Adam',loss='mse')"
   ]
  },
  {
   "cell_type": "code",
   "execution_count": 11,
   "id": "4b2a8f16",
   "metadata": {},
   "outputs": [
    {
     "name": "stdout",
     "output_type": "stream",
     "text": [
      "Epoch 1/100\n",
      "38/38 [==============================] - 20s 178ms/step - loss: 0.0376\n",
      "Epoch 2/100\n",
      "38/38 [==============================] - 7s 183ms/step - loss: 0.0060\n",
      "Epoch 3/100\n",
      "38/38 [==============================] - 7s 179ms/step - loss: 0.0040\n",
      "Epoch 4/100\n",
      "38/38 [==============================] - 7s 183ms/step - loss: 0.0035\n",
      "Epoch 5/100\n",
      "38/38 [==============================] - 7s 180ms/step - loss: 0.0036\n",
      "Epoch 6/100\n",
      "38/38 [==============================] - 7s 177ms/step - loss: 0.0031\n",
      "Epoch 7/100\n",
      "38/38 [==============================] - 7s 182ms/step - loss: 0.0036\n",
      "Epoch 8/100\n",
      "38/38 [==============================] - 7s 175ms/step - loss: 0.0037\n",
      "Epoch 9/100\n",
      "38/38 [==============================] - 7s 183ms/step - loss: 0.0041\n",
      "Epoch 10/100\n",
      "38/38 [==============================] - 7s 187ms/step - loss: 0.0029\n",
      "Epoch 11/100\n",
      "38/38 [==============================] - 7s 185ms/step - loss: 0.0032\n",
      "Epoch 12/100\n",
      "38/38 [==============================] - 7s 184ms/step - loss: 0.0028\n",
      "Epoch 13/100\n",
      "38/38 [==============================] - 7s 182ms/step - loss: 0.0030\n",
      "Epoch 14/100\n",
      "38/38 [==============================] - 7s 179ms/step - loss: 0.0037\n",
      "Epoch 15/100\n",
      "38/38 [==============================] - 6s 171ms/step - loss: 0.0029\n",
      "Epoch 16/100\n",
      "38/38 [==============================] - 7s 183ms/step - loss: 0.0027\n",
      "Epoch 17/100\n",
      "38/38 [==============================] - 7s 193ms/step - loss: 0.0029\n",
      "Epoch 18/100\n",
      "38/38 [==============================] - 7s 178ms/step - loss: 0.0027\n",
      "Epoch 19/100\n",
      "38/38 [==============================] - 7s 178ms/step - loss: 0.0025\n",
      "Epoch 20/100\n",
      "38/38 [==============================] - 7s 180ms/step - loss: 0.0026\n",
      "Epoch 21/100\n",
      "38/38 [==============================] - 7s 175ms/step - loss: 0.0024\n",
      "Epoch 22/100\n",
      "38/38 [==============================] - 7s 175ms/step - loss: 0.0023\n",
      "Epoch 23/100\n",
      "38/38 [==============================] - 7s 178ms/step - loss: 0.0024\n",
      "Epoch 24/100\n",
      "38/38 [==============================] - 7s 177ms/step - loss: 0.0024\n",
      "Epoch 25/100\n",
      "38/38 [==============================] - 6s 170ms/step - loss: 0.0024\n",
      "Epoch 26/100\n",
      "38/38 [==============================] - 7s 181ms/step - loss: 0.0023\n",
      "Epoch 27/100\n",
      "38/38 [==============================] - 7s 185ms/step - loss: 0.0022\n",
      "Epoch 28/100\n",
      "38/38 [==============================] - 7s 184ms/step - loss: 0.0026\n",
      "Epoch 29/100\n",
      "38/38 [==============================] - 7s 184ms/step - loss: 0.0020\n",
      "Epoch 30/100\n",
      "38/38 [==============================] - 7s 185ms/step - loss: 0.0020\n",
      "Epoch 31/100\n",
      "38/38 [==============================] - 7s 186ms/step - loss: 0.0021\n",
      "Epoch 32/100\n",
      "38/38 [==============================] - 7s 184ms/step - loss: 0.0021\n",
      "Epoch 33/100\n",
      "38/38 [==============================] - 6s 166ms/step - loss: 0.0021\n",
      "Epoch 34/100\n",
      "38/38 [==============================] - 7s 177ms/step - loss: 0.0025\n",
      "Epoch 35/100\n",
      "38/38 [==============================] - 7s 181ms/step - loss: 0.0023\n",
      "Epoch 36/100\n",
      "38/38 [==============================] - 7s 177ms/step - loss: 0.0020\n",
      "Epoch 37/100\n",
      "38/38 [==============================] - 7s 197ms/step - loss: 0.0021\n",
      "Epoch 38/100\n",
      "38/38 [==============================] - 7s 196ms/step - loss: 0.0021\n",
      "Epoch 39/100\n",
      "38/38 [==============================] - 7s 196ms/step - loss: 0.0021\n",
      "Epoch 40/100\n",
      "38/38 [==============================] - 7s 196ms/step - loss: 0.0019\n",
      "Epoch 41/100\n",
      "38/38 [==============================] - 7s 197ms/step - loss: 0.0018\n",
      "Epoch 42/100\n",
      "38/38 [==============================] - 7s 194ms/step - loss: 0.0020\n",
      "Epoch 43/100\n",
      "38/38 [==============================] - 7s 195ms/step - loss: 0.0017\n",
      "Epoch 44/100\n",
      "38/38 [==============================] - 7s 197ms/step - loss: 0.0016\n",
      "Epoch 45/100\n",
      "38/38 [==============================] - 7s 196ms/step - loss: 0.0017\n",
      "Epoch 46/100\n",
      "38/38 [==============================] - 7s 197ms/step - loss: 0.0018\n",
      "Epoch 47/100\n",
      "38/38 [==============================] - 7s 196ms/step - loss: 0.0017\n",
      "Epoch 48/100\n",
      "38/38 [==============================] - 7s 196ms/step - loss: 0.0020\n",
      "Epoch 49/100\n",
      "38/38 [==============================] - 8s 197ms/step - loss: 0.0018\n",
      "Epoch 50/100\n",
      "38/38 [==============================] - 8s 198ms/step - loss: 0.0017\n",
      "Epoch 51/100\n",
      "38/38 [==============================] - 7s 195ms/step - loss: 0.0018\n",
      "Epoch 52/100\n",
      "38/38 [==============================] - 7s 195ms/step - loss: 0.0016\n",
      "Epoch 53/100\n",
      "38/38 [==============================] - 8s 199ms/step - loss: 0.0018\n",
      "Epoch 54/100\n",
      "38/38 [==============================] - 8s 199ms/step - loss: 0.0017\n",
      "Epoch 55/100\n",
      "38/38 [==============================] - 7s 197ms/step - loss: 0.0020\n",
      "Epoch 56/100\n",
      "38/38 [==============================] - 7s 196ms/step - loss: 0.0020\n",
      "Epoch 57/100\n",
      "38/38 [==============================] - 7s 186ms/step - loss: 0.0015\n",
      "Epoch 58/100\n",
      "38/38 [==============================] - 8s 198ms/step - loss: 0.0016\n",
      "Epoch 59/100\n",
      "38/38 [==============================] - 7s 196ms/step - loss: 0.0014\n",
      "Epoch 60/100\n",
      "38/38 [==============================] - 7s 197ms/step - loss: 0.0014\n",
      "Epoch 61/100\n",
      "38/38 [==============================] - 7s 197ms/step - loss: 0.0015\n",
      "Epoch 62/100\n",
      "38/38 [==============================] - 8s 198ms/step - loss: 0.0015\n",
      "Epoch 63/100\n",
      "38/38 [==============================] - 7s 195ms/step - loss: 0.0013\n",
      "Epoch 64/100\n",
      "38/38 [==============================] - 8s 197ms/step - loss: 0.0014\n",
      "Epoch 65/100\n",
      "38/38 [==============================] - 7s 196ms/step - loss: 0.0016\n",
      "Epoch 66/100\n",
      "38/38 [==============================] - 7s 196ms/step - loss: 0.0013\n",
      "Epoch 67/100\n",
      "38/38 [==============================] - 7s 197ms/step - loss: 0.0015\n",
      "Epoch 68/100\n",
      "38/38 [==============================] - 8s 198ms/step - loss: 0.0013\n",
      "Epoch 69/100\n",
      "38/38 [==============================] - 7s 180ms/step - loss: 0.0013\n",
      "Epoch 70/100\n",
      "38/38 [==============================] - 7s 194ms/step - loss: 0.0014\n",
      "Epoch 71/100\n",
      "38/38 [==============================] - 7s 196ms/step - loss: 0.0013\n",
      "Epoch 72/100\n",
      "38/38 [==============================] - 7s 197ms/step - loss: 0.0013\n",
      "Epoch 73/100\n",
      "38/38 [==============================] - 7s 195ms/step - loss: 0.0014\n",
      "Epoch 74/100\n",
      "38/38 [==============================] - 7s 197ms/step - loss: 0.0014\n",
      "Epoch 75/100\n",
      "38/38 [==============================] - 7s 196ms/step - loss: 0.0011\n",
      "Epoch 76/100\n",
      "38/38 [==============================] - 7s 184ms/step - loss: 0.0013\n",
      "Epoch 77/100\n",
      "38/38 [==============================] - 7s 197ms/step - loss: 0.0012\n",
      "Epoch 78/100\n",
      "38/38 [==============================] - 7s 197ms/step - loss: 0.0012\n",
      "Epoch 79/100\n",
      "38/38 [==============================] - 7s 196ms/step - loss: 0.0011\n",
      "Epoch 80/100\n",
      "38/38 [==============================] - 7s 195ms/step - loss: 0.0013\n",
      "Epoch 81/100\n",
      "38/38 [==============================] - 7s 195ms/step - loss: 0.0013\n",
      "Epoch 82/100\n",
      "38/38 [==============================] - 7s 196ms/step - loss: 0.0012\n",
      "Epoch 83/100\n",
      "38/38 [==============================] - 7s 195ms/step - loss: 0.0011\n",
      "Epoch 84/100\n",
      "38/38 [==============================] - 7s 195ms/step - loss: 0.0011\n",
      "Epoch 85/100\n",
      "38/38 [==============================] - 7s 197ms/step - loss: 0.0012\n",
      "Epoch 86/100\n",
      "38/38 [==============================] - 7s 197ms/step - loss: 0.0011\n",
      "Epoch 87/100\n",
      "38/38 [==============================] - 7s 197ms/step - loss: 0.0012\n",
      "Epoch 88/100\n",
      "38/38 [==============================] - 8s 198ms/step - loss: 0.0011\n",
      "Epoch 89/100\n",
      "38/38 [==============================] - 7s 194ms/step - loss: 0.0012\n",
      "Epoch 90/100\n",
      "38/38 [==============================] - 7s 196ms/step - loss: 0.0012\n",
      "Epoch 91/100\n",
      "38/38 [==============================] - 7s 193ms/step - loss: 0.0010\n",
      "Epoch 92/100\n",
      "38/38 [==============================] - 7s 196ms/step - loss: 9.7397e-04\n",
      "Epoch 93/100\n",
      "38/38 [==============================] - 7s 197ms/step - loss: 9.9598e-04\n",
      "Epoch 94/100\n",
      "38/38 [==============================] - 7s 196ms/step - loss: 9.0967e-04\n",
      "Epoch 95/100\n",
      "38/38 [==============================] - 7s 197ms/step - loss: 0.0010\n",
      "Epoch 96/100\n",
      "38/38 [==============================] - 7s 197ms/step - loss: 0.0010\n",
      "Epoch 97/100\n",
      "38/38 [==============================] - 7s 197ms/step - loss: 0.0012\n",
      "Epoch 98/100\n",
      "38/38 [==============================] - 7s 196ms/step - loss: 0.0013\n",
      "Epoch 99/100\n",
      "38/38 [==============================] - 7s 188ms/step - loss: 8.8190e-04\n",
      "Epoch 100/100\n",
      "38/38 [==============================] - 8s 199ms/step - loss: 0.0010\n"
     ]
    },
    {
     "data": {
      "text/plain": [
       "<keras.src.callbacks.History at 0x2403154f970>"
      ]
     },
     "execution_count": 11,
     "metadata": {},
     "output_type": "execute_result"
    }
   ],
   "source": [
    "regressor.fit(x_train,y_train,epochs=100,batch_size=32)"
   ]
  },
  {
   "cell_type": "code",
   "execution_count": null,
   "id": "7a4d206c",
   "metadata": {},
   "outputs": [],
   "source": []
  },
  {
   "cell_type": "code",
   "execution_count": 12,
   "id": "0940a983",
   "metadata": {},
   "outputs": [],
   "source": [
    "real_stock_price=df_test.iloc[:,1:2].values"
   ]
  },
  {
   "cell_type": "code",
   "execution_count": 13,
   "id": "e2e4ff6a",
   "metadata": {},
   "outputs": [
    {
     "data": {
      "text/plain": [
       "0       357.385559\n",
       "1       360.122742\n",
       "2       362.313507\n",
       "3       365.348755\n",
       "4       365.393463\n",
       "          ...     \n",
       "120    1143.599976\n",
       "121    1128.000000\n",
       "122    1121.339966\n",
       "123    1102.089966\n",
       "124    1120.000000\n",
       "Name: Open, Length: 1384, dtype: float64"
      ]
     },
     "execution_count": 13,
     "metadata": {},
     "output_type": "execute_result"
    }
   ],
   "source": [
    "dataset_total=pd.concat((df_train['Open'],df_test['Open']),axis=0)\n",
    "dataset_total"
   ]
  },
  {
   "cell_type": "code",
   "execution_count": 14,
   "id": "8b920762",
   "metadata": {},
   "outputs": [
    {
     "data": {
      "text/plain": [
       "array([ 955.48999 ,  966.700012,  980.      ,  980.      ,  973.719971,\n",
       "        987.450012,  992.      ,  992.099976,  990.289978,  991.77002 ,\n",
       "        986.      ,  989.440002,  989.52002 ,  970.      ,  968.369995,\n",
       "        980.      , 1009.190002, 1014.      , 1015.219971, 1017.210022,\n",
       "       1021.76001 , 1022.109985, 1028.98999 , 1027.27002 , 1030.52002 ,\n",
       "       1033.98999 , 1026.459961, 1023.419983, 1022.590027, 1019.210022,\n",
       "       1022.52002 , 1034.01001 , 1020.26001 , 1023.309998, 1035.      ,\n",
       "       1035.869995, 1040.      , 1055.089966, 1042.680054, 1022.369995,\n",
       "       1015.799988, 1012.659973,  995.940002, 1001.5     , 1020.429993,\n",
       "       1037.48999 , 1035.5     , 1039.630005, 1046.119995, 1045.      ,\n",
       "       1054.609985, 1066.079956, 1075.199951, 1071.780029, 1064.949951,\n",
       "       1061.109985, 1058.069946, 1057.390015, 1051.599976, 1046.719971,\n",
       "       1048.339966, 1064.310059, 1088.      , 1094.      , 1102.22998 ,\n",
       "       1109.400024, 1097.099976, 1106.300049, 1102.410034, 1132.51001 ,\n",
       "       1126.219971, 1131.410034, 1131.829956, 1137.48999 , 1159.849976,\n",
       "       1177.329956, 1172.530029, 1175.079956, 1176.47998 , 1167.829956,\n",
       "       1170.569946, 1162.609985, 1122.      , 1090.599976, 1027.180054,\n",
       "       1081.540039, 1055.410034, 1017.25    , 1048.      , 1045.      ,\n",
       "       1048.949951, 1079.069946, 1088.410034, 1090.569946, 1106.469971,\n",
       "       1116.189941, 1112.640015, 1127.800049, 1141.23999 , 1123.030029,\n",
       "       1107.869995, 1053.079956, 1075.140015, 1099.219971, 1089.189941,\n",
       "       1115.319946, 1136.      , 1163.849976, 1170.      , 1145.209961,\n",
       "       1149.959961, 1154.140015, 1120.01001 , 1099.      , 1092.73999 ,\n",
       "       1081.880005, 1047.030029, 1046.      , 1063.      ,  998.      ,\n",
       "       1011.630005, 1022.820007, 1013.909973,  993.409973, 1041.329956,\n",
       "       1020.      , 1016.799988, 1026.439941, 1027.98999 , 1025.040039,\n",
       "       1040.880005, 1037.      , 1051.369995, 1077.430054, 1069.400024,\n",
       "       1082.      , 1077.859985, 1052.      , 1025.52002 , 1029.51001 ,\n",
       "       1046.      , 1030.01001 , 1013.659973, 1028.099976, 1019.      ,\n",
       "       1016.900024, 1049.22998 , 1058.540039, 1058.099976, 1086.030029,\n",
       "       1093.599976, 1100.      , 1090.      , 1077.310059, 1079.890015,\n",
       "       1061.859985, 1074.060059, 1083.560059, 1065.130005, 1079.      ,\n",
       "       1079.02002 , 1064.890015, 1063.030029, 1067.560059, 1099.349976,\n",
       "       1122.329956, 1140.98999 , 1142.170044, 1131.319946, 1118.180054,\n",
       "       1118.599976, 1131.069946, 1141.119995, 1143.849976, 1148.859985,\n",
       "       1143.650024, 1158.5     , 1175.310059, 1174.849976, 1159.140015,\n",
       "       1143.599976, 1128.      , 1121.339966, 1102.089966, 1120.      ])"
      ]
     },
     "execution_count": 14,
     "metadata": {},
     "output_type": "execute_result"
    }
   ],
   "source": [
    "inputs=dataset_total[len(dataset_total)-len(df_test)-60:].values\n",
    "inputs"
   ]
  },
  {
   "cell_type": "code",
   "execution_count": 15,
   "id": "56d9181a",
   "metadata": {},
   "outputs": [
    {
     "data": {
      "text/plain": [
       "array([[ 955.48999 ],\n",
       "       [ 966.700012],\n",
       "       [ 980.      ],\n",
       "       [ 980.      ],\n",
       "       [ 973.719971],\n",
       "       [ 987.450012],\n",
       "       [ 992.      ],\n",
       "       [ 992.099976],\n",
       "       [ 990.289978],\n",
       "       [ 991.77002 ],\n",
       "       [ 986.      ],\n",
       "       [ 989.440002],\n",
       "       [ 989.52002 ],\n",
       "       [ 970.      ],\n",
       "       [ 968.369995],\n",
       "       [ 980.      ],\n",
       "       [1009.190002],\n",
       "       [1014.      ],\n",
       "       [1015.219971],\n",
       "       [1017.210022],\n",
       "       [1021.76001 ],\n",
       "       [1022.109985],\n",
       "       [1028.98999 ],\n",
       "       [1027.27002 ],\n",
       "       [1030.52002 ],\n",
       "       [1033.98999 ],\n",
       "       [1026.459961],\n",
       "       [1023.419983],\n",
       "       [1022.590027],\n",
       "       [1019.210022],\n",
       "       [1022.52002 ],\n",
       "       [1034.01001 ],\n",
       "       [1020.26001 ],\n",
       "       [1023.309998],\n",
       "       [1035.      ],\n",
       "       [1035.869995],\n",
       "       [1040.      ],\n",
       "       [1055.089966],\n",
       "       [1042.680054],\n",
       "       [1022.369995],\n",
       "       [1015.799988],\n",
       "       [1012.659973],\n",
       "       [ 995.940002],\n",
       "       [1001.5     ],\n",
       "       [1020.429993],\n",
       "       [1037.48999 ],\n",
       "       [1035.5     ],\n",
       "       [1039.630005],\n",
       "       [1046.119995],\n",
       "       [1045.      ],\n",
       "       [1054.609985],\n",
       "       [1066.079956],\n",
       "       [1075.199951],\n",
       "       [1071.780029],\n",
       "       [1064.949951],\n",
       "       [1061.109985],\n",
       "       [1058.069946],\n",
       "       [1057.390015],\n",
       "       [1051.599976],\n",
       "       [1046.719971],\n",
       "       [1048.339966],\n",
       "       [1064.310059],\n",
       "       [1088.      ],\n",
       "       [1094.      ],\n",
       "       [1102.22998 ],\n",
       "       [1109.400024],\n",
       "       [1097.099976],\n",
       "       [1106.300049],\n",
       "       [1102.410034],\n",
       "       [1132.51001 ],\n",
       "       [1126.219971],\n",
       "       [1131.410034],\n",
       "       [1131.829956],\n",
       "       [1137.48999 ],\n",
       "       [1159.849976],\n",
       "       [1177.329956],\n",
       "       [1172.530029],\n",
       "       [1175.079956],\n",
       "       [1176.47998 ],\n",
       "       [1167.829956],\n",
       "       [1170.569946],\n",
       "       [1162.609985],\n",
       "       [1122.      ],\n",
       "       [1090.599976],\n",
       "       [1027.180054],\n",
       "       [1081.540039],\n",
       "       [1055.410034],\n",
       "       [1017.25    ],\n",
       "       [1048.      ],\n",
       "       [1045.      ],\n",
       "       [1048.949951],\n",
       "       [1079.069946],\n",
       "       [1088.410034],\n",
       "       [1090.569946],\n",
       "       [1106.469971],\n",
       "       [1116.189941],\n",
       "       [1112.640015],\n",
       "       [1127.800049],\n",
       "       [1141.23999 ],\n",
       "       [1123.030029],\n",
       "       [1107.869995],\n",
       "       [1053.079956],\n",
       "       [1075.140015],\n",
       "       [1099.219971],\n",
       "       [1089.189941],\n",
       "       [1115.319946],\n",
       "       [1136.      ],\n",
       "       [1163.849976],\n",
       "       [1170.      ],\n",
       "       [1145.209961],\n",
       "       [1149.959961],\n",
       "       [1154.140015],\n",
       "       [1120.01001 ],\n",
       "       [1099.      ],\n",
       "       [1092.73999 ],\n",
       "       [1081.880005],\n",
       "       [1047.030029],\n",
       "       [1046.      ],\n",
       "       [1063.      ],\n",
       "       [ 998.      ],\n",
       "       [1011.630005],\n",
       "       [1022.820007],\n",
       "       [1013.909973],\n",
       "       [ 993.409973],\n",
       "       [1041.329956],\n",
       "       [1020.      ],\n",
       "       [1016.799988],\n",
       "       [1026.439941],\n",
       "       [1027.98999 ],\n",
       "       [1025.040039],\n",
       "       [1040.880005],\n",
       "       [1037.      ],\n",
       "       [1051.369995],\n",
       "       [1077.430054],\n",
       "       [1069.400024],\n",
       "       [1082.      ],\n",
       "       [1077.859985],\n",
       "       [1052.      ],\n",
       "       [1025.52002 ],\n",
       "       [1029.51001 ],\n",
       "       [1046.      ],\n",
       "       [1030.01001 ],\n",
       "       [1013.659973],\n",
       "       [1028.099976],\n",
       "       [1019.      ],\n",
       "       [1016.900024],\n",
       "       [1049.22998 ],\n",
       "       [1058.540039],\n",
       "       [1058.099976],\n",
       "       [1086.030029],\n",
       "       [1093.599976],\n",
       "       [1100.      ],\n",
       "       [1090.      ],\n",
       "       [1077.310059],\n",
       "       [1079.890015],\n",
       "       [1061.859985],\n",
       "       [1074.060059],\n",
       "       [1083.560059],\n",
       "       [1065.130005],\n",
       "       [1079.      ],\n",
       "       [1079.02002 ],\n",
       "       [1064.890015],\n",
       "       [1063.030029],\n",
       "       [1067.560059],\n",
       "       [1099.349976],\n",
       "       [1122.329956],\n",
       "       [1140.98999 ],\n",
       "       [1142.170044],\n",
       "       [1131.319946],\n",
       "       [1118.180054],\n",
       "       [1118.599976],\n",
       "       [1131.069946],\n",
       "       [1141.119995],\n",
       "       [1143.849976],\n",
       "       [1148.859985],\n",
       "       [1143.650024],\n",
       "       [1158.5     ],\n",
       "       [1175.310059],\n",
       "       [1174.849976],\n",
       "       [1159.140015],\n",
       "       [1143.599976],\n",
       "       [1128.      ],\n",
       "       [1121.339966],\n",
       "       [1102.089966],\n",
       "       [1120.      ]])"
      ]
     },
     "execution_count": 15,
     "metadata": {},
     "output_type": "execute_result"
    }
   ],
   "source": [
    "inputs=inputs.reshape(-1,1)\n",
    "inputs"
   ]
  },
  {
   "cell_type": "code",
   "execution_count": 16,
   "id": "805c484f",
   "metadata": {},
   "outputs": [
    {
     "data": {
      "text/plain": [
       "(185, 1)"
      ]
     },
     "execution_count": 16,
     "metadata": {},
     "output_type": "execute_result"
    }
   ],
   "source": [
    "inputs=sc.transform(inputs)\n",
    "inputs.shape"
   ]
  },
  {
   "cell_type": "code",
   "execution_count": 17,
   "id": "ba195d0c",
   "metadata": {},
   "outputs": [],
   "source": [
    "x_test=[]\n",
    "for i in range(60,185):\n",
    "    x_test.append(inputs[i-60:i,0])\n"
   ]
  },
  {
   "cell_type": "code",
   "execution_count": 18,
   "id": "f13f71da",
   "metadata": {},
   "outputs": [
    {
     "data": {
      "text/plain": [
       "(125, 60)"
      ]
     },
     "execution_count": 18,
     "metadata": {},
     "output_type": "execute_result"
    }
   ],
   "source": [
    "x_test=np.array(x_test)\n",
    "x_test.shape"
   ]
  },
  {
   "cell_type": "code",
   "execution_count": null,
   "id": "90a30a73",
   "metadata": {},
   "outputs": [],
   "source": []
  },
  {
   "cell_type": "code",
   "execution_count": 19,
   "id": "894878f9",
   "metadata": {},
   "outputs": [
    {
     "data": {
      "text/plain": [
       "(125, 60, 1)"
      ]
     },
     "execution_count": 19,
     "metadata": {},
     "output_type": "execute_result"
    }
   ],
   "source": [
    "x_test=np.reshape(x_test,(x_test.shape[0],x_test.shape[1],1))\n",
    "x_test.shape"
   ]
  },
  {
   "cell_type": "code",
   "execution_count": 20,
   "id": "b435bcea",
   "metadata": {},
   "outputs": [
    {
     "name": "stdout",
     "output_type": "stream",
     "text": [
      "4/4 [==============================] - 3s 58ms/step\n"
     ]
    }
   ],
   "source": [
    "predicted_price=regressor.predict(x_test)"
   ]
  },
  {
   "cell_type": "code",
   "execution_count": 21,
   "id": "b23e11eb",
   "metadata": {},
   "outputs": [
    {
     "data": {
      "text/plain": [
       "array([[1030.8899 ],\n",
       "       [1029.4629 ],\n",
       "       [1031.9833 ],\n",
       "       [1040.5228 ],\n",
       "       [1050.6703 ],\n",
       "       [1059.632  ],\n",
       "       [1066.6759 ],\n",
       "       [1068.6292 ],\n",
       "       [1069.5553 ],\n",
       "       [1069.7456 ],\n",
       "       [1075.6813 ],\n",
       "       [1082.1268 ],\n",
       "       [1087.6678 ],\n",
       "       [1091.487  ],\n",
       "       [1094.8381 ],\n",
       "       [1101.7509 ],\n",
       "       [1112.1376 ],\n",
       "       [1120.1592 ],\n",
       "       [1125.1764 ],\n",
       "       [1128.1261 ],\n",
       "       [1128.2461 ],\n",
       "       [1128.0879 ],\n",
       "       [1126.9535 ],\n",
       "       [1118.511  ],\n",
       "       [1103.4948 ],\n",
       "       [1078.6749 ],\n",
       "       [1065.004  ],\n",
       "       [1057.8796 ],\n",
       "       [1047.7593 ],\n",
       "       [1042.6499 ],\n",
       "       [1041.2516 ],\n",
       "       [1041.8119 ],\n",
       "       [1047.8381 ],\n",
       "       [1056.2968 ],\n",
       "       [1062.9856 ],\n",
       "       [1069.301  ],\n",
       "       [1075.6068 ],\n",
       "       [1079.5302 ],\n",
       "       [1084.1733 ],\n",
       "       [1090.9625 ],\n",
       "       [1093.6783 ],\n",
       "       [1090.8624 ],\n",
       "       [1076.6554 ],\n",
       "       [1065.0621 ],\n",
       "       [1063.9341 ],\n",
       "       [1066.9532 ],\n",
       "       [1074.9117 ],\n",
       "       [1086.5868 ],\n",
       "       [1101.4542 ],\n",
       "       [1114.17   ],\n",
       "       [1116.9949 ],\n",
       "       [1115.5686 ],\n",
       "       [1114.3655 ],\n",
       "       [1107.9446 ],\n",
       "       [1097.1825 ],\n",
       "       [1086.7118 ],\n",
       "       [1077.8984 ],\n",
       "       [1066.0671 ],\n",
       "       [1055.1599 ],\n",
       "       [1050.8912 ],\n",
       "       [1039.3564 ],\n",
       "       [1027.6136 ],\n",
       "       [1021.30597],\n",
       "       [1017.8332 ],\n",
       "       [1011.7975 ],\n",
       "       [1013.64044],\n",
       "       [1015.7576 ],\n",
       "       [1015.20667],\n",
       "       [1014.6577 ],\n",
       "       [1014.69836],\n",
       "       [1014.3159 ],\n",
       "       [1016.54504],\n",
       "       [1018.9721 ],\n",
       "       [1023.17706],\n",
       "       [1032.2466 ],\n",
       "       [1039.8174 ],\n",
       "       [1046.3009 ],\n",
       "       [1049.9185 ],\n",
       "       [1046.3783 ],\n",
       "       [1035.4736 ],\n",
       "       [1025.0187 ],\n",
       "       [1021.70374],\n",
       "       [1020.5089 ],\n",
       "       [1016.72125],\n",
       "       [1014.6851 ],\n",
       "       [1012.77423],\n",
       "       [1010.5486 ],\n",
       "       [1014.55066],\n",
       "       [1022.7808 ],\n",
       "       [1029.9758 ],\n",
       "       [1039.2712 ],\n",
       "       [1048.7294 ],\n",
       "       [1056.6439 ],\n",
       "       [1059.7161 ],\n",
       "       [1057.3965 ],\n",
       "       [1054.1815 ],\n",
       "       [1048.8999 ],\n",
       "       [1046.5983 ],\n",
       "       [1048.8918 ],\n",
       "       [1049.4226 ],\n",
       "       [1050.9557 ],\n",
       "       [1052.8981 ],\n",
       "       [1051.7452 ],\n",
       "       [1048.7656 ],\n",
       "       [1046.7765 ],\n",
       "       [1052.1233 ],\n",
       "       [1064.343  ],\n",
       "       [1079.4417 ],\n",
       "       [1091.0879 ],\n",
       "       [1095.3903 ],\n",
       "       [1092.9639 ],\n",
       "       [1088.978  ],\n",
       "       [1088.6973 ],\n",
       "       [1092.8846 ],\n",
       "       [1098.6415 ],\n",
       "       [1104.3099 ],\n",
       "       [1107.401  ],\n",
       "       [1111.396  ],\n",
       "       [1118.3315 ],\n",
       "       [1124.6947 ],\n",
       "       [1125.8894 ],\n",
       "       [1121.6788 ],\n",
       "       [1113.865  ],\n",
       "       [1105.931  ],\n",
       "       [1097.1193 ]], dtype=float32)"
      ]
     },
     "execution_count": 21,
     "metadata": {},
     "output_type": "execute_result"
    }
   ],
   "source": [
    "\n",
    "predicted_price=sc.inverse_transform(predicted_price)\n",
    "predicted_price"
   ]
  },
  {
   "cell_type": "code",
   "execution_count": 22,
   "id": "4c9e8444",
   "metadata": {},
   "outputs": [
    {
     "data": {
      "image/png": "[encoded data removed]",
      "text/plain": [
       "<Figure size 640x480 with 1 Axes>"
      ]
     },
     "metadata": {},
     "output_type": "display_data"
    }
   ],
   "source": [
    "plt.plot(real_stock_price,color = 'red', label = 'Real Price')\n",
    "plt.plot(predicted_price, color = 'blue', label = 'Predicted Price')\n",
    "plt.title('Google Stock Price Prediction')\n",
    "plt.xlabel('Time')\n",
    "plt.ylabel('Google Stock Price')\n",
    "plt.legend()\n",
    "plt.show()"
   ]
  },
  {
   "cell_type": "code",
   "execution_count": null,
   "id": "3228e45b",
   "metadata": {},
   "outputs": [],
   "source": []
  },
  {
   "cell_type": "code",
   "execution_count": null,
   "id": "c84f93a2",
   "metadata": {},
   "outputs": [],
   "source": []
  },
  {
   "cell_type": "code",
   "execution_count": null,
   "id": "aefc27b1",
   "metadata": {},
   "outputs": [],
   "source": []
  },
  {
   "cell_type": "code",
   "execution_count": null,
   "id": "94caa2ff",
   "metadata": {},
   "outputs": [],
   "source": []
  },
  {
   "cell_type": "code",
   "execution_count": null,
   "id": "f3d4815e",
   "metadata": {},
   "outputs": [],
   "source": []
  },
  {
   "cell_type": "code",
   "execution_count": null,
   "id": "90b271f3",
   "metadata": {},
   "outputs": [],
   "source": []
  },
  {
   "cell_type": "code",
   "execution_count": null,
   "id": "6dea6734",
   "metadata": {},
   "outputs": [],
   "source": []
  },
  {
   "cell_type": "code",
   "execution_count": null,
   "id": "9becee47",
   "metadata": {},
   "outputs": [],
   "source": []
  },
  {
   "cell_type": "code",
   "execution_count": null,
   "id": "4c6f1d27",
   "metadata": {},
   "outputs": [],
   "source": []
  },
  {
   "cell_type": "code",
   "execution_count": null,
   "id": "0737557b",
   "metadata": {},
   "outputs": [],
   "source": []
  },
  {
   "cell_type": "code",
   "execution_count": null,
   "id": "255ae05c",
   "metadata": {},
   "outputs": [],
   "source": []
  },
  {
   "cell_type": "code",
   "execution_count": null,
   "id": "47ad429f",
   "metadata": {},
   "outputs": [],
   "source": []
  }
 ],
 "metadata": {
  "kernelspec": {
   "display_name": "Python 3 (ipykernel)",
   "language": "python",
   "name": "python3"
  },
  "language_info": {
   "codemirror_mode": {
    "name": "ipython",
    "version": 3
   },
   "file_extension": ".py",
   "mimetype": "text/x-python",
   "name": "python",
   "nbconvert_exporter": "python",
   "pygments_lexer": "ipython3",
   "version": "3.10.9"
  }
 },
 "nbformat": 4,
 "nbformat_minor": 5
}
