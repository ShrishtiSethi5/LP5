{
 "cells": [
  {
   "cell_type": "code",
   "execution_count": 1,
   "id": "70b7dd2f",
   "metadata": {},
   "outputs": [],
   "source": [
    "from keras.datasets import imdb"
   ]
  },
  {
   "cell_type": "code",
   "execution_count": 2,
   "id": "8c2dbbc6",
   "metadata": {},
   "outputs": [
    {
     "name": "stdout",
     "output_type": "stream",
     "text": [
      "Downloading data from https://storage.googleapis.com/tensorflow/tf-keras-datasets/imdb.npz\n",
      "17464789/17464789 [==============================] - 3s 0us/step\n"
     ]
    }
   ],
   "source": [
    "(train_data,train_label),(test_data,test_label)=imdb.load_data(num_words=10000)"
   ]
  },
  {
   "cell_type": "code",
   "execution_count": 3,
   "id": "178c4725",
   "metadata": {},
   "outputs": [],
   "source": [
    "import numpy as np\n",
    "\n",
    "def vectorize_sequences(sequences,dimensions=10000):\n",
    "    results=np.zeros((len(sequences),dimensions))\n",
    "    for i,sequence in enumerate(sequences):\n",
    "        results[i,sequence]=1\n",
    "        \n",
    "    return results\n",
    "\n",
    "x_train=vectorize_sequences(train_data)\n",
    "x_test=vectorize_sequences(test_data)"
   ]
  },
  {
   "cell_type": "code",
   "execution_count": 5,
   "id": "0fc78184",
   "metadata": {},
   "outputs": [],
   "source": [
    "y_train=np.asarray(train_label).astype('float32')\n",
    "y_test=np.asarray(test_label).astype('float32')"
   ]
  },
  {
   "cell_type": "code",
   "execution_count": null,
   "id": "76506486",
   "metadata": {},
   "outputs": [],
   "source": []
  },
  {
   "cell_type": "code",
   "execution_count": 6,
   "id": "c92dd923",
   "metadata": {},
   "outputs": [],
   "source": [
    "from keras.models import Sequential\n",
    "from keras.layers import Dense"
   ]
  },
  {
   "cell_type": "code",
   "execution_count": 9,
   "id": "c3fe9b3e",
   "metadata": {},
   "outputs": [],
   "source": [
    "model= Sequential()\n",
    "\n",
    "model.add(Dense(16,input_shape=(10000,),activation='relu'))\n",
    "model.add(Dense(16,activation='relu'))\n",
    "model.add(Dense(1,activation='sigmoid'))\n",
    "\n"
   ]
  },
  {
   "cell_type": "code",
   "execution_count": 10,
   "id": "6e6864f9",
   "metadata": {},
   "outputs": [],
   "source": [
    "model.compile(optimizer='adam',loss='mse',metrics=['accuracy'])"
   ]
  },
  {
   "cell_type": "code",
   "execution_count": 11,
   "id": "b213fef4",
   "metadata": {},
   "outputs": [
    {
     "name": "stdout",
     "output_type": "stream",
     "text": [
      "Model: \"sequential_1\"\n",
      "_________________________________________________________________\n",
      " Layer (type)                Output Shape              Param #   \n",
      "=================================================================\n",
      " dense_1 (Dense)             (None, 16)                160016    \n",
      "                                                                 \n",
      " dense_2 (Dense)             (None, 16)                272       \n",
      "                                                                 \n",
      " dense_3 (Dense)             (None, 1)                 17        \n",
      "                                                                 \n",
      "=================================================================\n",
      "Total params: 160305 (626.19 KB)\n",
      "Trainable params: 160305 (626.19 KB)\n",
      "Non-trainable params: 0 (0.00 Byte)\n",
      "_________________________________________________________________\n"
     ]
    }
   ],
   "source": [
    "model.summary()"
   ]
  },
  {
   "cell_type": "code",
   "execution_count": 15,
   "id": "d85aaf44",
   "metadata": {},
   "outputs": [
    {
     "name": "stdout",
     "output_type": "stream",
     "text": [
      "Epoch 1/20\n",
      "40/40 [==============================] - 3s 71ms/step - loss: 0.0042 - accuracy: 0.9959 - val_loss: 0.1179 - val_accuracy: 0.8644\n",
      "Epoch 2/20\n",
      "40/40 [==============================] - 1s 27ms/step - loss: 0.0042 - accuracy: 0.9959 - val_loss: 0.1180 - val_accuracy: 0.8646\n",
      "Epoch 3/20\n",
      "40/40 [==============================] - 1s 25ms/step - loss: 0.0042 - accuracy: 0.9959 - val_loss: 0.1181 - val_accuracy: 0.8644\n",
      "Epoch 4/20\n",
      "40/40 [==============================] - 1s 22ms/step - loss: 0.0042 - accuracy: 0.9959 - val_loss: 0.1182 - val_accuracy: 0.8642\n",
      "Epoch 5/20\n",
      "40/40 [==============================] - 1s 21ms/step - loss: 0.0042 - accuracy: 0.9959 - val_loss: 0.1183 - val_accuracy: 0.8644\n",
      "Epoch 6/20\n",
      "40/40 [==============================] - 1s 23ms/step - loss: 0.0042 - accuracy: 0.9959 - val_loss: 0.1183 - val_accuracy: 0.8646\n",
      "Epoch 7/20\n",
      "40/40 [==============================] - 1s 23ms/step - loss: 0.0042 - accuracy: 0.9959 - val_loss: 0.1184 - val_accuracy: 0.8644\n",
      "Epoch 8/20\n",
      "40/40 [==============================] - 1s 21ms/step - loss: 0.0042 - accuracy: 0.9959 - val_loss: 0.1184 - val_accuracy: 0.8648\n",
      "Epoch 9/20\n",
      "40/40 [==============================] - 1s 22ms/step - loss: 0.0042 - accuracy: 0.9959 - val_loss: 0.1185 - val_accuracy: 0.8644\n",
      "Epoch 10/20\n",
      "40/40 [==============================] - 1s 22ms/step - loss: 0.0042 - accuracy: 0.9959 - val_loss: 0.1185 - val_accuracy: 0.8642\n",
      "Epoch 11/20\n",
      "40/40 [==============================] - 1s 22ms/step - loss: 0.0042 - accuracy: 0.9959 - val_loss: 0.1186 - val_accuracy: 0.8644\n",
      "Epoch 12/20\n",
      "40/40 [==============================] - 1s 22ms/step - loss: 0.0042 - accuracy: 0.9959 - val_loss: 0.1187 - val_accuracy: 0.8640\n",
      "Epoch 13/20\n",
      "40/40 [==============================] - 1s 22ms/step - loss: 0.0042 - accuracy: 0.9959 - val_loss: 0.1187 - val_accuracy: 0.8646\n",
      "Epoch 14/20\n",
      "40/40 [==============================] - 1s 21ms/step - loss: 0.0042 - accuracy: 0.9959 - val_loss: 0.1188 - val_accuracy: 0.8650\n",
      "Epoch 15/20\n",
      "40/40 [==============================] - 1s 21ms/step - loss: 0.0042 - accuracy: 0.9959 - val_loss: 0.1189 - val_accuracy: 0.8644\n",
      "Epoch 16/20\n",
      "40/40 [==============================] - 1s 23ms/step - loss: 0.0042 - accuracy: 0.9959 - val_loss: 0.1189 - val_accuracy: 0.8648\n",
      "Epoch 17/20\n",
      "40/40 [==============================] - 1s 24ms/step - loss: 0.0042 - accuracy: 0.9959 - val_loss: 0.1191 - val_accuracy: 0.8646\n",
      "Epoch 18/20\n",
      "40/40 [==============================] - 1s 21ms/step - loss: 0.0042 - accuracy: 0.9959 - val_loss: 0.1191 - val_accuracy: 0.8650\n",
      "Epoch 19/20\n",
      "40/40 [==============================] - 1s 21ms/step - loss: 0.0042 - accuracy: 0.9959 - val_loss: 0.1192 - val_accuracy: 0.8644\n",
      "Epoch 20/20\n",
      "40/40 [==============================] - 1s 21ms/step - loss: 0.0042 - accuracy: 0.9959 - val_loss: 0.1192 - val_accuracy: 0.8646\n"
     ]
    }
   ],
   "source": [
    "history=model.fit(x_train,y_train,validation_split=0.2,epochs=20,verbose=1,batch_size=512)"
   ]
  },
  {
   "cell_type": "code",
   "execution_count": 16,
   "id": "9b9b9f53",
   "metadata": {},
   "outputs": [
    {
     "name": "stdout",
     "output_type": "stream",
     "text": [
      "782/782 [==============================] - 4s 5ms/step - loss: 0.1302 - accuracy: 0.8525\n",
      "MSE 0.13017584383487701\n",
      "MAE 0.8525199890136719\n"
     ]
    }
   ],
   "source": [
    "mse,mae=model.evaluate(x_test,y_test)\n",
    "print('MSE',mse)\n",
    "print('MAE',mae)"
   ]
  },
  {
   "cell_type": "code",
   "execution_count": 17,
   "id": "ac45ef03",
   "metadata": {},
   "outputs": [
    {
     "name": "stdout",
     "output_type": "stream",
     "text": [
      "782/782 [==============================] - 4s 4ms/step\n"
     ]
    }
   ],
   "source": [
    "y_pred=model.predict(x_test)"
   ]
  },
  {
   "cell_type": "code",
   "execution_count": 18,
   "id": "de90b0fd",
   "metadata": {},
   "outputs": [
    {
     "data": {
      "text/plain": [
       "array([[5.0482277e-02],\n",
       "       [1.0000000e+00],\n",
       "       [2.6368669e-03],\n",
       "       ...,\n",
       "       [1.7208537e-01],\n",
       "       [7.9982291e-04],\n",
       "       [1.2390407e-01]], dtype=float32)"
      ]
     },
     "execution_count": 18,
     "metadata": {},
     "output_type": "execute_result"
    }
   ],
   "source": [
    "y_pred"
   ]
  },
  {
   "cell_type": "code",
   "execution_count": 19,
   "id": "52502ee2",
   "metadata": {},
   "outputs": [
    {
     "data": {
      "text/plain": [
       "array([0., 1., 1., ..., 0., 0., 0.], dtype=float32)"
      ]
     },
     "execution_count": 19,
     "metadata": {},
     "output_type": "execute_result"
    }
   ],
   "source": [
    "y_test"
   ]
  },
  {
   "cell_type": "code",
   "execution_count": 20,
   "id": "2ab58e48",
   "metadata": {},
   "outputs": [
    {
     "name": "stdout",
     "output_type": "stream",
     "text": [
      "0.85252\n",
      "0.8601552921945239\n",
      "0.84192\n"
     ]
    }
   ],
   "source": [
    "tests=[]\n",
    "for i in y_test:\n",
    "    tests.append(int(i))\n",
    "\n",
    "pred=[]\n",
    "for i in y_pred:\n",
    "    if i[0]>0.5:\n",
    "        pred.append(1)\n",
    "    else:\n",
    "        pred.append(0)\n",
    "        \n",
    "from sklearn.metrics import accuracy_score,precision_score,recall_score\n",
    "\n",
    "print(accuracy_score(tests,pred))\n",
    "print(precision_score(tests,pred))\n",
    "print(recall_score(tests,pred))"
   ]
  },
  {
   "cell_type": "code",
   "execution_count": null,
   "id": "756f9db9",
   "metadata": {},
   "outputs": [],
   "source": []
  },
  {
   "cell_type": "code",
   "execution_count": 32,
   "id": "cd0b8eae",
   "metadata": {},
   "outputs": [
    {
     "data": {
      "text/plain": [
       "\"? please give this one a miss br br ? ? and the rest of the cast rendered terrible performances the show is flat flat flat br br i don't know how michael madison could have allowed this one on his plate he almost seemed to know this wasn't going to work out and his performance was quite ? so all you madison fans give this a miss\""
      ]
     },
     "execution_count": 32,
     "metadata": {},
     "output_type": "execute_result"
    }
   ],
   "source": [
    "word_index=imdb.get_word_index()\n",
    "def return_token(tid):\n",
    "    for k,v in word_index.items():\n",
    "        if v==tid-3:\n",
    "            return k\n",
    "    return '?'\n",
    "\n",
    "def print_review(id_):\n",
    "    sentence=' '.join(return_token(i) for i in test_data[id_])\n",
    "    return sentence\n",
    "print_review(0)"
   ]
  },
  {
   "cell_type": "code",
   "execution_count": 33,
   "id": "5aeb93cc",
   "metadata": {},
   "outputs": [
    {
     "data": {
      "text/plain": [
       "0"
      ]
     },
     "execution_count": 33,
     "metadata": {},
     "output_type": "execute_result"
    }
   ],
   "source": [
    "test_label[0]"
   ]
  },
  {
   "cell_type": "code",
   "execution_count": 34,
   "id": "708d5f6c",
   "metadata": {},
   "outputs": [
    {
     "data": {
      "text/plain": [
       "0"
      ]
     },
     "execution_count": 34,
     "metadata": {},
     "output_type": "execute_result"
    }
   ],
   "source": [
    "pred[0]"
   ]
  },
  {
   "cell_type": "code",
   "execution_count": 35,
   "id": "755191e7",
   "metadata": {},
   "outputs": [
    {
     "data": {
      "text/plain": [
       "\"? this film requires a lot of patience because it focuses on mood and character development the plot is very simple and many of the scenes take place on the same set in frances ? the sandy dennis character apartment but the film builds to a disturbing climax br br the characters create an atmosphere ? with sexual tension and psychological ? it's very interesting that robert altman directed this considering the style and structure of his other films still the trademark altman audio style is evident here and there i think what really makes this film work is the brilliant performance by sandy dennis it's definitely one of her darker characters but she plays it so perfectly and convincingly that it's scary michael burns does a good job as the mute young man regular altman player michael murphy has a small part the ? moody set fits the content of the story very well in short this movie is a powerful study of loneliness sexual ? and desperation be patient ? up the atmosphere and pay attention to the wonderfully written script br br i praise robert altman this is one of his many films that deals with unconventional fascinating subject matter this film is disturbing but it's sincere and it's sure to ? a strong emotional response from the viewer if you want to see an unusual film some might even say bizarre this is worth the time br br unfortunately it's very difficult to find in video stores you may have to buy it off the internet\""
      ]
     },
     "execution_count": 35,
     "metadata": {},
     "output_type": "execute_result"
    }
   ],
   "source": [
    "print_review(1)"
   ]
  },
  {
   "cell_type": "code",
   "execution_count": 36,
   "id": "15d1ed3d",
   "metadata": {},
   "outputs": [
    {
     "data": {
      "text/plain": [
       "1"
      ]
     },
     "execution_count": 36,
     "metadata": {},
     "output_type": "execute_result"
    }
   ],
   "source": [
    "test_label[1]"
   ]
  },
  {
   "cell_type": "code",
   "execution_count": 37,
   "id": "f367198b",
   "metadata": {},
   "outputs": [
    {
     "data": {
      "text/plain": [
       "1"
      ]
     },
     "execution_count": 37,
     "metadata": {},
     "output_type": "execute_result"
    }
   ],
   "source": [
    "pred[1]"
   ]
  },
  {
   "cell_type": "code",
   "execution_count": 38,
   "id": "9e3b23bc",
   "metadata": {},
   "outputs": [
    {
     "data": {
      "text/plain": [
       "\"? many animation buffs consider ? ? the great forgotten genius of one special branch of the art puppet animation which he invented almost single ? and as it happened almost accidentally as a young man ? was more interested in ? than the cinema but his ? attempt to film two ? ? fighting led to an unexpected breakthrough in film making when he realized he could ? movement by ? beetle ? and ? them one frame at a time this discovery led to the production of amazingly elaborate classic short the ? revenge which he made in russia in ? at a time when motion picture animation of all sorts was in its ? br br the political ? of the russian revolution caused ? to move to paris where one of his first productions ? was a dark political satire ? known as ? or the ? who wanted a king a strain of black comedy can be found in almost all of films but here it is very dark indeed aimed more at grown ups who can appreciate the satirical aspects than children who would most likely find the climax ? i'm middle aged and found it pretty ? myself and indeed ? of the film intended for english speaking viewers of the 1920s were given title cards filled with ? and ? in order to help ? the sharp ? of the finale br br our tale is set in a swamp the ? ? where the citizens are unhappy with their government and have called a special session to see what they can do to improve matters they decide to ? ? for a king the crowds are ? animated in this opening sequence it couldn't have been easy to make so many frog puppets look alive simultaneously while ? for his part is depicted as a ? white ? guy in the clouds who looks like he'd rather be taking a ? when ? sends them a tree like god who regards them the ? decide that this is no improvement and demand a different king irritated ? sends them a ? br br delighted with this ? looking new king who towers above them the ? welcome him with a ? of ? dressed ? the mayor steps forward to hand him the key to the ? as ? cameras record the event to everyone's horror the ? promptly eats the mayor and then goes on a merry rampage ? citizens at random a title card ? reads news of the king's ? throughout the kingdom when the now terrified ? once more ? ? for help he loses his temper and ? their community with lightning ? the moral of our story delivered by a hapless frog just before he is eaten is let well enough alone br br considering the time period when this startling little film was made and considering the fact that it was made by a russian ? at the height of that ? country's civil war it would be easy to see this as a ? about those events ? may or may not have had ? turmoil in mind when he made ? but whatever ? his choice of material the film stands as a ? tale of universal ? ? could be the soviet union italy germany or japan in the 1930s or any country of any era that lets its guard down and is overwhelmed by ? it's a fascinating film even a charming one in its macabre way but its message is no joke\""
      ]
     },
     "execution_count": 38,
     "metadata": {},
     "output_type": "execute_result"
    }
   ],
   "source": [
    "print_review(2)"
   ]
  },
  {
   "cell_type": "code",
   "execution_count": 39,
   "id": "b186f455",
   "metadata": {},
   "outputs": [
    {
     "data": {
      "text/plain": [
       "1"
      ]
     },
     "execution_count": 39,
     "metadata": {},
     "output_type": "execute_result"
    }
   ],
   "source": [
    "test_label[2]"
   ]
  },
  {
   "cell_type": "code",
   "execution_count": 40,
   "id": "93ab1bec",
   "metadata": {},
   "outputs": [
    {
     "data": {
      "text/plain": [
       "0"
      ]
     },
     "execution_count": 40,
     "metadata": {},
     "output_type": "execute_result"
    }
   ],
   "source": [
    "pred[2]"
   ]
  },
  {
   "cell_type": "code",
   "execution_count": null,
   "id": "3140e16a",
   "metadata": {},
   "outputs": [],
   "source": []
  },
  {
   "cell_type": "code",
   "execution_count": null,
   "id": "67fccf3f",
   "metadata": {},
   "outputs": [],
   "source": []
  }
 ],
 "metadata": {
  "kernelspec": {
   "display_name": "Python 3 (ipykernel)",
   "language": "python",
   "name": "python3"
  },
  "language_info": {
   "codemirror_mode": {
    "name": "ipython",
    "version": 3
   },
   "file_extension": ".py",
   "mimetype": "text/x-python",
   "name": "python",
   "nbconvert_exporter": "python",
   "pygments_lexer": "ipython3",
   "version": "3.10.9"
  }
 },
 "nbformat": 4,
 "nbformat_minor": 5
}
